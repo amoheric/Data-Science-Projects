{
  "nbformat": 4,
  "nbformat_minor": 0,
  "metadata": {
    "colab": {
      "provenance": [],
      "include_colab_link": true
    },
    "kernelspec": {
      "name": "python3",
      "display_name": "Python 3"
    },
    "language_info": {
      "name": "python"
    }
  },
  "cells": [
    {
      "cell_type": "markdown",
      "metadata": {
        "id": "view-in-github",
        "colab_type": "text"
      },
      "source": [
        "<a href=\"https://colab.research.google.com/github/amoheric/Data-Science-Projects/blob/main/Python_Programming_Practice_Data_Science_Week1_Assignment_1_1.ipynb\" target=\"_parent\"><img src=\"https://colab.research.google.com/assets/colab-badge.svg\" alt=\"Open In Colab\"/></a>"
      ]
    },
    {
      "cell_type": "markdown",
      "source": [
        "**Python Practice**\n",
        "\n",
        "This assignment is to get started with a practice to Python for Data Science.\n",
        "\n",
        "Choose any 6 questions out of the questions below. 6 questions will be graded and the rest can be utilized for some practice."
      ],
      "metadata": {
        "id": "O2PrhW5BvC3E"
      }
    },
    {
      "cell_type": "markdown",
      "source": [
        "Create a string variable greeting containing \"Hello, \" and another variable name containing your name. Concatenate these variables to form a greeting message and print it"
      ],
      "metadata": {
        "id": "ujhMol3ubYaw"
      }
    },
    {
      "cell_type": "code",
      "source": [
        "#Your answer must go here\n",
        "\n",
        "#Variables\n",
        "\n",
        "greetings = \"Hello\"\n",
        "name = \"Amoh Eric\"\n",
        "print(greetings + \" I am \" + name)"
      ],
      "metadata": {
        "id": "Ept6SexKCEwQ",
        "outputId": "93f4155c-f58e-40e2-b0e5-1e9aae668f19",
        "colab": {
          "base_uri": "https://localhost:8080/"
        }
      },
      "execution_count": null,
      "outputs": [
        {
          "output_type": "stream",
          "name": "stdout",
          "text": [
            "Hello I am Amoh Eric\n"
          ]
        }
      ]
    },
    {
      "cell_type": "markdown",
      "source": [
        "Write a Python program which accepts a sequence of comma-separated numbers\n",
        "from the user and generate a list with those numbers. Arrange them in ascending order"
      ],
      "metadata": {
        "id": "q6Q3a2icbfJb"
      }
    },
    {
      "cell_type": "code",
      "source": [
        "#Your answer must go here.\n",
        "\n",
        "#Sorting\n",
        "# Function to accept a sequence of comma-separated numbers and return a sorted list\n",
        "def get_sorted_numbers():\n",
        "    # Accept input from the user\n",
        "    user_input = input(\"Enter a sequence of comma-separated numbers: \")\n",
        "\n",
        "    # Split the input string into individual number strings and convert them to integers\n",
        "    number_list = [int(num.strip()) for num in user_input.split(',')]\n",
        "\n",
        "    # Sort the list in ascending order\n",
        "    sorted_list = sorted(number_list)\n",
        "\n",
        "    return sorted_list\n",
        "\n",
        "# Main function to run the program\n",
        "if __name__ == \"__main__\":\n",
        "    sorted_numbers = get_sorted_numbers()\n",
        "    print(\"Sorted list of numbers:\", sorted_numbers)\n",
        "\n",
        "# Resource: -- Youtube.\n"
      ],
      "metadata": {
        "id": "v2MZd11TCT1Q",
        "outputId": "e2690523-b37b-4eea-9c66-b8efc8bf206c",
        "colab": {
          "base_uri": "https://localhost:8080/"
        }
      },
      "execution_count": null,
      "outputs": [
        {
          "output_type": "stream",
          "name": "stdout",
          "text": [
            "Enter a sequence of comma-separated numbers:  5, 3, 8, 1, 2\n",
            "Sorted list of numbers: [1, 2, 3, 5, 8]\n"
          ]
        }
      ]
    },
    {
      "cell_type": "markdown",
      "source": [
        "Write a Python program to display the first and last letters from the given list of names: [\"Adam\",\"Alex\",\"Emmanuel\" ,\"Robert\", \"Finn\"]."
      ],
      "metadata": {
        "id": "tD9ZO5LqcPHJ"
      }
    },
    {
      "cell_type": "code",
      "source": [
        "#Your answer must go here\n",
        "\n",
        "# List of names\n",
        "names = [\"Adam\", \"Alex\", \"Emmanuel\", \"Robert\", \"Finn\"]\n",
        "\n",
        "# Function to get the first and last letters of each name\n",
        "def first_and_last_letters(name_list):\n",
        "    result = [(name[0], name[-1]) for name in name_list]\n",
        "    return result\n",
        "\n",
        "# Get the first and last letters\n",
        "letters = first_and_last_letters(names)\n",
        "\n",
        "# Display the results\n",
        "for name, (first, last) in zip(names, letters):\n",
        "    print(f\"The first and last letters of {name} are: {first} and {last}\")\n",
        "\n",
        "# Resources: Youtube,   w3school.com, https://www.geeksforgeeks.org/python-get-first-and-last-elements-of-a-list/\n"
      ],
      "metadata": {
        "id": "65y1fHv0CVXu",
        "outputId": "0da1dbdb-cef9-437b-d44a-a41abfdbf031",
        "colab": {
          "base_uri": "https://localhost:8080/"
        }
      },
      "execution_count": null,
      "outputs": [
        {
          "output_type": "stream",
          "name": "stdout",
          "text": [
            "The first and last letters of Adam are: A and m\n",
            "The first and last letters of Alex are: A and x\n",
            "The first and last letters of Emmanuel are: E and l\n",
            "The first and last letters of Robert are: R and t\n",
            "The first and last letters of Finn are: F and n\n"
          ]
        }
      ]
    },
    {
      "cell_type": "markdown",
      "source": [
        "Take a string as an input. Write a python program to create a new string using the first, middle, and last characters of the input string."
      ],
      "metadata": {
        "id": "VyB-z66Vcxjs"
      }
    },
    {
      "cell_type": "code",
      "source": [
        "#Your answer must go here\n",
        "\n",
        "\n",
        "def create_new_string(input_string):\n",
        "    # Get the first character\n",
        "    first_char = input_string[0]\n",
        "\n",
        "    # Get the middle character\n",
        "    middle_index = len(input_string) // 2\n",
        "    middle_char = input_string[middle_index]\n",
        "\n",
        "    # Get the last character\n",
        "    last_char = input_string[-1]\n",
        "\n",
        "    # Create the new string\n",
        "    new_string = first_char + middle_char + last_char\n",
        "\n",
        "    return new_string\n",
        "\n",
        "# Take input from the user\n",
        "user_input = input(\"Enter a string: \")\n",
        "\n",
        "# Generate the new string\n",
        "result = create_new_string(user_input)\n",
        "\n",
        "# Display the result\n",
        "print(\"The new string is:\", result)\n",
        "\n",
        "\n",
        "# Resources: https://www.geeksforgeeks.org/python-create-a-string-made-of-the-first-and-last-two-characters-from-a-given-string/"
      ],
      "metadata": {
        "id": "fywPaeQ9CWoQ",
        "outputId": "c928f671-68ef-41ce-e91d-7011107c937f",
        "colab": {
          "base_uri": "https://localhost:8080/"
        }
      },
      "execution_count": null,
      "outputs": [
        {
          "output_type": "stream",
          "name": "stdout",
          "text": [
            "Enter a string: CupCakes\n",
            "The new string is: Cas\n"
          ]
        }
      ]
    },
    {
      "cell_type": "markdown",
      "source": [
        "Write a python program to take a string as an input and reverse it"
      ],
      "metadata": {
        "id": "4KoZnsVnc7K7"
      }
    },
    {
      "cell_type": "code",
      "source": [
        "#Your answer must go here\n",
        "\n",
        "# Function to reverse a string\n",
        "def reverse_string(input_string):\n",
        "    # Reverse the string using slicing\n",
        "    reversed_string = input_string[::-1]\n",
        "    return reversed_string\n",
        "\n",
        "# Take input from the user\n",
        "user_input = input(\"Enter a string: \")\n",
        "\n",
        "# Reverse the string\n",
        "reversed_result = reverse_string(user_input)\n",
        "\n",
        "# Display the result\n",
        "print(\"The reversed string is:\", reversed_result)\n",
        "\n",
        "\n",
        "# Resources: geeksforgeeks.org - Python reverse string"
      ],
      "metadata": {
        "id": "-C4HsLcjCXwT",
        "outputId": "1bfe961d-4f32-488c-c14a-1580a86b4e05",
        "colab": {
          "base_uri": "https://localhost:8080/"
        }
      },
      "execution_count": null,
      "outputs": [
        {
          "output_type": "stream",
          "name": "stdout",
          "text": [
            "Enter a string: Heartfelt \n",
            "The reversed string is:  tleftraeH\n"
          ]
        }
      ]
    },
    {
      "cell_type": "markdown",
      "source": [
        "**Collections**"
      ],
      "metadata": {
        "id": "x-5HZ4ghtHf-"
      }
    },
    {
      "cell_type": "markdown",
      "source": [
        "Take an input of numbers in a list and create a new list containing only the even numbers from the original list."
      ],
      "metadata": {
        "id": "iGAnSQaMs-kU"
      }
    },
    {
      "cell_type": "code",
      "source": [
        "#Your answer must go here\n",
        "\n",
        "# Function to filter even numbers from a list\n",
        "def filter_even_numbers(numbers):\n",
        "    # Using list comprehension to filter even numbers\n",
        "    even_numbers = [num for num in numbers if num % 2 == 0]\n",
        "    return even_numbers\n",
        "\n",
        "# Taking input from the user and converting it to a list of integers\n",
        "user_input = input(\"Enter numbers separated by spaces: \")\n",
        "numbers_list = list(map(int, user_input.split()))\n",
        "\n",
        "# Get the list of even numbers\n",
        "even_numbers_list = filter_even_numbers(numbers_list)\n",
        "\n",
        "# Display the result\n",
        "print(\"List of even numbers:\", even_numbers_list)\n",
        "\n",
        "\n",
        "# Resources: https://www.geeksforgeeks.org/python-filter-even-values-from-a-list/, https://www.w3resource.com/python-exercises/filter/python-filter-exercise-1.php, https://www.tutorialspoint.com/python-filter-even-values-from-a-list,"
      ],
      "metadata": {
        "id": "du-AQi1jCema",
        "colab": {
          "base_uri": "https://localhost:8080/"
        },
        "outputId": "ed180e80-a1ea-4647-f0a6-2099c748cba3"
      },
      "execution_count": null,
      "outputs": [
        {
          "output_type": "stream",
          "name": "stdout",
          "text": [
            "Enter numbers separated by spaces: 1 2 3 4 5 6 7 8 9 10\n",
            "List of even numbers: [2, 4, 6, 8, 10]\n"
          ]
        }
      ]
    },
    {
      "cell_type": "markdown",
      "source": [
        "Take a list of strings (words) and create a new list containing the lengths of each word in the original list."
      ],
      "metadata": {
        "id": "2PHWbU8HtNO-"
      }
    },
    {
      "cell_type": "code",
      "source": [
        "#Your answer must go here\n",
        "\n",
        "# Function to get the lengths of each word in the list\n",
        "def get_word_lengths(words_list):\n",
        "    # Create a new list with the lengths of each word\n",
        "    lengths_list = [len(word) for word in words_list]\n",
        "    return lengths_list\n",
        "\n",
        "# Example list of words\n",
        "words = [\"apple\", \"banana\", \"cherry\", \"date\", \"elderberry\"]\n",
        "\n",
        "# Get the lengths of each word\n",
        "lengths = get_word_lengths(words)\n",
        "\n",
        "# Display the result\n",
        "print(\"Original list of words:\", words)\n",
        "print(\"List of word lengths:\", lengths)\n",
        "\n",
        "# Resources: https://www.geeksforgeeks.org/python-get-first-and-last-elements-of-a-list/"
      ],
      "metadata": {
        "id": "S_vHvvR6Cfav",
        "outputId": "4d13905f-2311-4c1e-cae8-d97cee79ec44",
        "colab": {
          "base_uri": "https://localhost:8080/"
        }
      },
      "execution_count": null,
      "outputs": [
        {
          "output_type": "stream",
          "name": "stdout",
          "text": [
            "Original list of words: ['apple', 'banana', 'cherry', 'date', 'elderberry']\n",
            "List of word lengths: [5, 6, 6, 4, 10]\n"
          ]
        }
      ]
    },
    {
      "cell_type": "markdown",
      "source": [
        "Create a dictionary student_grades with keys as student names and values as their respective grades. Find the student with the highest grade and print the output"
      ],
      "metadata": {
        "id": "8gzK9MNStgx5"
      }
    },
    {
      "cell_type": "code",
      "source": [
        "#Your answer must go here\n",
        "\n",
        "# Creating a dictionary with student names and their grades\n",
        "student_grades = {\n",
        "    \"Alice\": 85,\n",
        "    \"Bob\": 92,\n",
        "    \"Charlie\": 87,\n",
        "    \"David\": 95,\n",
        "    \"Eva\": 78\n",
        "}\n",
        "\n",
        "# Finding the student with the highest grade\n",
        "def find_highest_grade(grades_dict):\n",
        "    highest_grade_student = max(grades_dict, key=grades_dict.get)\n",
        "    highest_grade = grades_dict[highest_grade_student]\n",
        "    return highest_grade_student, highest_grade\n",
        "\n",
        "# Get the student with the highest grade\n",
        "student, grade = find_highest_grade(student_grades)\n",
        "\n",
        "# Print the result\n",
        "print(f\"The student with the highest grade is {student} with a grade of {grade}.\")\n",
        "\n",
        "#Resources: https://stackoverflow.com/questions/75713522/how-can-i-find-who-has-the-highest-average-grade-using-dictionary, https://www.w3resource.com/python-exercises/filter/python-filter-exercise-6.php,"
      ],
      "metadata": {
        "id": "dcUL0Yj3CgVQ",
        "colab": {
          "base_uri": "https://localhost:8080/"
        },
        "outputId": "2e7d1f02-554c-4db7-99b8-b5bb75327f78"
      },
      "execution_count": null,
      "outputs": [
        {
          "output_type": "stream",
          "name": "stdout",
          "text": [
            "The student with the highest grade is David with a grade of 95.\n"
          ]
        }
      ]
    },
    {
      "cell_type": "markdown",
      "source": [
        "Define two sets, set1 and set2, containing some common elements. Remove the duplicate elements from set1 that are also present in set2."
      ],
      "metadata": {
        "id": "E1B78qP8tupG"
      }
    },
    {
      "cell_type": "code",
      "source": [
        "#Your answer must go here\n",
        "\n",
        "# Define the sets\n",
        "set1 = {\"apple\", \"banana\", \"cherry\", \"date\", \"elderberry\"}\n",
        "set2 = {\"cherry\", \"date\", \"fig\", \"grape\"}\n",
        "\n",
        "# Remove the duplicate elements from set1 that are also present in set2\n",
        "set1.difference_update(set2)\n",
        "\n",
        "# Remove the duplicate elements from set2 that are also present in set1\n",
        "set2.difference_update(set1)\n",
        "\n",
        "# Display the result\n",
        "print(\"Set1 after removing duplicates:\", set1)\n",
        "\n",
        "print(\"Set2 after removing duplicates:\", set2)\n",
        "\n",
        "#Resources: https://stackoverflow.com/questions/48818286/removing-common-string-elements-in-two-sets-python3, https://www.geeksforgeeks.org/remove-common-elements-from-two-list-in-python/\n"
      ],
      "metadata": {
        "id": "yyD4jH4AChIl",
        "colab": {
          "base_uri": "https://localhost:8080/"
        },
        "outputId": "1e51a594-a2af-4c66-c6c2-42cf94ba34e3"
      },
      "execution_count": null,
      "outputs": [
        {
          "output_type": "stream",
          "name": "stdout",
          "text": [
            "Set1 after removing duplicates: {'banana', 'apple', 'elderberry'}\n",
            "Set2 after removing duplicates: {'cherry', 'fig', 'grape', 'date'}\n"
          ]
        }
      ]
    },
    {
      "cell_type": "markdown",
      "source": [
        "Create a dictionary word_count to count the occurrences of each word in a given sentence. Print the top 3 most common words along with their counts."
      ],
      "metadata": {
        "id": "2qhPexHqt0fv"
      }
    },
    {
      "cell_type": "code",
      "source": [
        "#Your answer must go here\n",
        "\n",
        "from collections import Counter\n",
        "\n",
        "# Function to count word occurrences and get the top 3 most common words\n",
        "def count_words(sentence):\n",
        "    # Split the sentence into words\n",
        "    words = sentence.split()\n",
        "\n",
        "    # Create a dictionary to count occurrences of each word\n",
        "    word_count = Counter(words)\n",
        "\n",
        "    # Get the top 3 most common words\n",
        "    top_3_words = word_count.most_common(3)\n",
        "\n",
        "    return top_3_words\n",
        "\n",
        "# Take a sentence as input from the user\n",
        "sentence = input(\"Enter a sentence: \")\n",
        "\n",
        "# Get the top 3 most common words and their counts\n",
        "top_words = count_words(sentence)\n",
        "\n",
        "# Print the results\n",
        "print(\"The top 3 most common words are:\")\n",
        "for word, count in top_words:\n",
        "    print(f\"{word}: {count}\")\n",
        "\n",
        "# Example usage\n",
        "if __name__ == \"__main__\":\n",
        "    example_sentence = \"This is a test. This test is only a test.\"\n",
        "    top_words_example = count_words(example_sentence)\n",
        "    print(\"\\nExample sentence results:\")\n",
        "    for word, count in top_words_example:\n",
        "        print(f\"{word}: {count}\")\n",
        "\n",
        "# Resources: https://www.w3resource.com/python-exercises/string/python-data-type-string-exercise-12.php\n"
      ],
      "metadata": {
        "id": "XmxnACB1CiUV",
        "colab": {
          "base_uri": "https://localhost:8080/"
        },
        "outputId": "746eccef-378a-49c0-a2f6-1d3b816c2fef"
      },
      "execution_count": null,
      "outputs": [
        {
          "output_type": "stream",
          "name": "stdout",
          "text": [
            "Enter a sentence: This is a test. This test is only a test.\n",
            "The top 3 most common words are:\n",
            "This: 2\n",
            "is: 2\n",
            "a: 2\n",
            "\n",
            "Example sentence results:\n",
            "This: 2\n",
            "is: 2\n",
            "a: 2\n"
          ]
        }
      ]
    }
  ]
}