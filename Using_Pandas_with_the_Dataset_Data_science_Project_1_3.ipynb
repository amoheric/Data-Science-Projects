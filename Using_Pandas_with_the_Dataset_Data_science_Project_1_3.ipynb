{
  "nbformat": 4,
  "nbformat_minor": 0,
  "metadata": {
    "colab": {
      "provenance": [],
      "include_colab_link": true
    },
    "kernelspec": {
      "name": "python3",
      "display_name": "Python 3"
    },
    "language_info": {
      "name": "python"
    }
  },
  "cells": [
    {
      "cell_type": "markdown",
      "metadata": {
        "id": "view-in-github",
        "colab_type": "text"
      },
      "source": [
        "<a href=\"https://colab.research.google.com/github/amoheric/Data-Science-Projects/blob/main/Using_Pandas_with_the_Dataset_Data_science_Assignment_1_3.ipynb\" target=\"_parent\"><img src=\"https://colab.research.google.com/assets/colab-badge.svg\" alt=\"Open In Colab\"/></a>"
      ]
    },
    {
      "cell_type": "markdown",
      "source": [
        "Read the dataset using pandas. The dataset will be available in the same folder.\n",
        "After reading the dataset, perform the following exploratory data analysis.\n",
        "\n",
        "Dataset resource:\n",
        "https://www.openintro.org/data/index.php\n",
        "\n",
        "https://www.openintro.org/data/index.php?data=nycflights\n"
      ],
      "metadata": {
        "id": "667vjeJv1xRT"
      }
    },
    {
      "cell_type": "markdown",
      "source": [
        "You can choose to **answer 5 questions** for the assignment. **5 are graded**\n",
        "\n",
        "***Use the rest to test your knowledge***"
      ],
      "metadata": {
        "id": "_Hooi2yOHkU3"
      }
    },
    {
      "cell_type": "code",
      "source": [
        "#Code here\n",
        "\n",
        "import pandas as pd\n",
        "\n",
        "# Load the dataset\n",
        "file_path = '/content/nycflights.csv'\n",
        "flights_df = pd.read_csv(file_path)\n",
        "\n",
        "# Display the first few rows of the dataframe\n",
        "flights_df.head()\n",
        "\n"
      ],
      "metadata": {
        "id": "o96PlT0mEjBi",
        "colab": {
          "base_uri": "https://localhost:8080/",
          "height": 226
        },
        "outputId": "e8504ac9-1cf2-4844-9319-340de6fccf09"
      },
      "execution_count": null,
      "outputs": [
        {
          "output_type": "execute_result",
          "data": {
            "text/plain": [
              "   year  month  day  dep_time  dep_delay  arr_time  arr_delay carrier tailnum  \\\n",
              "0  2013      6   30       940         15      1216         -4      VX  N626VA   \n",
              "1  2013      5    7      1657         -3      2104         10      DL  N3760C   \n",
              "2  2013     12    8       859         -1      1238         11      DL  N712TW   \n",
              "3  2013      5   14      1841         -4      2122        -34      DL  N914DL   \n",
              "4  2013      7   21      1102         -3      1230         -8      9E  N823AY   \n",
              "\n",
              "   flight origin dest  air_time  distance  hour  minute  \n",
              "0     407    JFK  LAX       313      2475     9      40  \n",
              "1     329    JFK  SJU       216      1598    16      57  \n",
              "2     422    JFK  LAX       376      2475     8      59  \n",
              "3    2391    JFK  TPA       135      1005    18      41  \n",
              "4    3652    LGA  ORF        50       296    11       2  "
            ],
            "text/html": [
              "\n",
              "  <div id=\"df-9efe1577-b0c1-4b24-8b8a-0dd6006d40c7\" class=\"colab-df-container\">\n",
              "    <div>\n",
              "<style scoped>\n",
              "    .dataframe tbody tr th:only-of-type {\n",
              "        vertical-align: middle;\n",
              "    }\n",
              "\n",
              "    .dataframe tbody tr th {\n",
              "        vertical-align: top;\n",
              "    }\n",
              "\n",
              "    .dataframe thead th {\n",
              "        text-align: right;\n",
              "    }\n",
              "</style>\n",
              "<table border=\"1\" class=\"dataframe\">\n",
              "  <thead>\n",
              "    <tr style=\"text-align: right;\">\n",
              "      <th></th>\n",
              "      <th>year</th>\n",
              "      <th>month</th>\n",
              "      <th>day</th>\n",
              "      <th>dep_time</th>\n",
              "      <th>dep_delay</th>\n",
              "      <th>arr_time</th>\n",
              "      <th>arr_delay</th>\n",
              "      <th>carrier</th>\n",
              "      <th>tailnum</th>\n",
              "      <th>flight</th>\n",
              "      <th>origin</th>\n",
              "      <th>dest</th>\n",
              "      <th>air_time</th>\n",
              "      <th>distance</th>\n",
              "      <th>hour</th>\n",
              "      <th>minute</th>\n",
              "    </tr>\n",
              "  </thead>\n",
              "  <tbody>\n",
              "    <tr>\n",
              "      <th>0</th>\n",
              "      <td>2013</td>\n",
              "      <td>6</td>\n",
              "      <td>30</td>\n",
              "      <td>940</td>\n",
              "      <td>15</td>\n",
              "      <td>1216</td>\n",
              "      <td>-4</td>\n",
              "      <td>VX</td>\n",
              "      <td>N626VA</td>\n",
              "      <td>407</td>\n",
              "      <td>JFK</td>\n",
              "      <td>LAX</td>\n",
              "      <td>313</td>\n",
              "      <td>2475</td>\n",
              "      <td>9</td>\n",
              "      <td>40</td>\n",
              "    </tr>\n",
              "    <tr>\n",
              "      <th>1</th>\n",
              "      <td>2013</td>\n",
              "      <td>5</td>\n",
              "      <td>7</td>\n",
              "      <td>1657</td>\n",
              "      <td>-3</td>\n",
              "      <td>2104</td>\n",
              "      <td>10</td>\n",
              "      <td>DL</td>\n",
              "      <td>N3760C</td>\n",
              "      <td>329</td>\n",
              "      <td>JFK</td>\n",
              "      <td>SJU</td>\n",
              "      <td>216</td>\n",
              "      <td>1598</td>\n",
              "      <td>16</td>\n",
              "      <td>57</td>\n",
              "    </tr>\n",
              "    <tr>\n",
              "      <th>2</th>\n",
              "      <td>2013</td>\n",
              "      <td>12</td>\n",
              "      <td>8</td>\n",
              "      <td>859</td>\n",
              "      <td>-1</td>\n",
              "      <td>1238</td>\n",
              "      <td>11</td>\n",
              "      <td>DL</td>\n",
              "      <td>N712TW</td>\n",
              "      <td>422</td>\n",
              "      <td>JFK</td>\n",
              "      <td>LAX</td>\n",
              "      <td>376</td>\n",
              "      <td>2475</td>\n",
              "      <td>8</td>\n",
              "      <td>59</td>\n",
              "    </tr>\n",
              "    <tr>\n",
              "      <th>3</th>\n",
              "      <td>2013</td>\n",
              "      <td>5</td>\n",
              "      <td>14</td>\n",
              "      <td>1841</td>\n",
              "      <td>-4</td>\n",
              "      <td>2122</td>\n",
              "      <td>-34</td>\n",
              "      <td>DL</td>\n",
              "      <td>N914DL</td>\n",
              "      <td>2391</td>\n",
              "      <td>JFK</td>\n",
              "      <td>TPA</td>\n",
              "      <td>135</td>\n",
              "      <td>1005</td>\n",
              "      <td>18</td>\n",
              "      <td>41</td>\n",
              "    </tr>\n",
              "    <tr>\n",
              "      <th>4</th>\n",
              "      <td>2013</td>\n",
              "      <td>7</td>\n",
              "      <td>21</td>\n",
              "      <td>1102</td>\n",
              "      <td>-3</td>\n",
              "      <td>1230</td>\n",
              "      <td>-8</td>\n",
              "      <td>9E</td>\n",
              "      <td>N823AY</td>\n",
              "      <td>3652</td>\n",
              "      <td>LGA</td>\n",
              "      <td>ORF</td>\n",
              "      <td>50</td>\n",
              "      <td>296</td>\n",
              "      <td>11</td>\n",
              "      <td>2</td>\n",
              "    </tr>\n",
              "  </tbody>\n",
              "</table>\n",
              "</div>\n",
              "    <div class=\"colab-df-buttons\">\n",
              "\n",
              "  <div class=\"colab-df-container\">\n",
              "    <button class=\"colab-df-convert\" onclick=\"convertToInteractive('df-9efe1577-b0c1-4b24-8b8a-0dd6006d40c7')\"\n",
              "            title=\"Convert this dataframe to an interactive table.\"\n",
              "            style=\"display:none;\">\n",
              "\n",
              "  <svg xmlns=\"http://www.w3.org/2000/svg\" height=\"24px\" viewBox=\"0 -960 960 960\">\n",
              "    <path d=\"M120-120v-720h720v720H120Zm60-500h600v-160H180v160Zm220 220h160v-160H400v160Zm0 220h160v-160H400v160ZM180-400h160v-160H180v160Zm440 0h160v-160H620v160ZM180-180h160v-160H180v160Zm440 0h160v-160H620v160Z\"/>\n",
              "  </svg>\n",
              "    </button>\n",
              "\n",
              "  <style>\n",
              "    .colab-df-container {\n",
              "      display:flex;\n",
              "      gap: 12px;\n",
              "    }\n",
              "\n",
              "    .colab-df-convert {\n",
              "      background-color: #E8F0FE;\n",
              "      border: none;\n",
              "      border-radius: 50%;\n",
              "      cursor: pointer;\n",
              "      display: none;\n",
              "      fill: #1967D2;\n",
              "      height: 32px;\n",
              "      padding: 0 0 0 0;\n",
              "      width: 32px;\n",
              "    }\n",
              "\n",
              "    .colab-df-convert:hover {\n",
              "      background-color: #E2EBFA;\n",
              "      box-shadow: 0px 1px 2px rgba(60, 64, 67, 0.3), 0px 1px 3px 1px rgba(60, 64, 67, 0.15);\n",
              "      fill: #174EA6;\n",
              "    }\n",
              "\n",
              "    .colab-df-buttons div {\n",
              "      margin-bottom: 4px;\n",
              "    }\n",
              "\n",
              "    [theme=dark] .colab-df-convert {\n",
              "      background-color: #3B4455;\n",
              "      fill: #D2E3FC;\n",
              "    }\n",
              "\n",
              "    [theme=dark] .colab-df-convert:hover {\n",
              "      background-color: #434B5C;\n",
              "      box-shadow: 0px 1px 3px 1px rgba(0, 0, 0, 0.15);\n",
              "      filter: drop-shadow(0px 1px 2px rgba(0, 0, 0, 0.3));\n",
              "      fill: #FFFFFF;\n",
              "    }\n",
              "  </style>\n",
              "\n",
              "    <script>\n",
              "      const buttonEl =\n",
              "        document.querySelector('#df-9efe1577-b0c1-4b24-8b8a-0dd6006d40c7 button.colab-df-convert');\n",
              "      buttonEl.style.display =\n",
              "        google.colab.kernel.accessAllowed ? 'block' : 'none';\n",
              "\n",
              "      async function convertToInteractive(key) {\n",
              "        const element = document.querySelector('#df-9efe1577-b0c1-4b24-8b8a-0dd6006d40c7');\n",
              "        const dataTable =\n",
              "          await google.colab.kernel.invokeFunction('convertToInteractive',\n",
              "                                                    [key], {});\n",
              "        if (!dataTable) return;\n",
              "\n",
              "        const docLinkHtml = 'Like what you see? Visit the ' +\n",
              "          '<a target=\"_blank\" href=https://colab.research.google.com/notebooks/data_table.ipynb>data table notebook</a>'\n",
              "          + ' to learn more about interactive tables.';\n",
              "        element.innerHTML = '';\n",
              "        dataTable['output_type'] = 'display_data';\n",
              "        await google.colab.output.renderOutput(dataTable, element);\n",
              "        const docLink = document.createElement('div');\n",
              "        docLink.innerHTML = docLinkHtml;\n",
              "        element.appendChild(docLink);\n",
              "      }\n",
              "    </script>\n",
              "  </div>\n",
              "\n",
              "\n",
              "<div id=\"df-621f1b91-03c7-425a-93dc-0e71b2e47df2\">\n",
              "  <button class=\"colab-df-quickchart\" onclick=\"quickchart('df-621f1b91-03c7-425a-93dc-0e71b2e47df2')\"\n",
              "            title=\"Suggest charts\"\n",
              "            style=\"display:none;\">\n",
              "\n",
              "<svg xmlns=\"http://www.w3.org/2000/svg\" height=\"24px\"viewBox=\"0 0 24 24\"\n",
              "     width=\"24px\">\n",
              "    <g>\n",
              "        <path d=\"M19 3H5c-1.1 0-2 .9-2 2v14c0 1.1.9 2 2 2h14c1.1 0 2-.9 2-2V5c0-1.1-.9-2-2-2zM9 17H7v-7h2v7zm4 0h-2V7h2v10zm4 0h-2v-4h2v4z\"/>\n",
              "    </g>\n",
              "</svg>\n",
              "  </button>\n",
              "\n",
              "<style>\n",
              "  .colab-df-quickchart {\n",
              "      --bg-color: #E8F0FE;\n",
              "      --fill-color: #1967D2;\n",
              "      --hover-bg-color: #E2EBFA;\n",
              "      --hover-fill-color: #174EA6;\n",
              "      --disabled-fill-color: #AAA;\n",
              "      --disabled-bg-color: #DDD;\n",
              "  }\n",
              "\n",
              "  [theme=dark] .colab-df-quickchart {\n",
              "      --bg-color: #3B4455;\n",
              "      --fill-color: #D2E3FC;\n",
              "      --hover-bg-color: #434B5C;\n",
              "      --hover-fill-color: #FFFFFF;\n",
              "      --disabled-bg-color: #3B4455;\n",
              "      --disabled-fill-color: #666;\n",
              "  }\n",
              "\n",
              "  .colab-df-quickchart {\n",
              "    background-color: var(--bg-color);\n",
              "    border: none;\n",
              "    border-radius: 50%;\n",
              "    cursor: pointer;\n",
              "    display: none;\n",
              "    fill: var(--fill-color);\n",
              "    height: 32px;\n",
              "    padding: 0;\n",
              "    width: 32px;\n",
              "  }\n",
              "\n",
              "  .colab-df-quickchart:hover {\n",
              "    background-color: var(--hover-bg-color);\n",
              "    box-shadow: 0 1px 2px rgba(60, 64, 67, 0.3), 0 1px 3px 1px rgba(60, 64, 67, 0.15);\n",
              "    fill: var(--button-hover-fill-color);\n",
              "  }\n",
              "\n",
              "  .colab-df-quickchart-complete:disabled,\n",
              "  .colab-df-quickchart-complete:disabled:hover {\n",
              "    background-color: var(--disabled-bg-color);\n",
              "    fill: var(--disabled-fill-color);\n",
              "    box-shadow: none;\n",
              "  }\n",
              "\n",
              "  .colab-df-spinner {\n",
              "    border: 2px solid var(--fill-color);\n",
              "    border-color: transparent;\n",
              "    border-bottom-color: var(--fill-color);\n",
              "    animation:\n",
              "      spin 1s steps(1) infinite;\n",
              "  }\n",
              "\n",
              "  @keyframes spin {\n",
              "    0% {\n",
              "      border-color: transparent;\n",
              "      border-bottom-color: var(--fill-color);\n",
              "      border-left-color: var(--fill-color);\n",
              "    }\n",
              "    20% {\n",
              "      border-color: transparent;\n",
              "      border-left-color: var(--fill-color);\n",
              "      border-top-color: var(--fill-color);\n",
              "    }\n",
              "    30% {\n",
              "      border-color: transparent;\n",
              "      border-left-color: var(--fill-color);\n",
              "      border-top-color: var(--fill-color);\n",
              "      border-right-color: var(--fill-color);\n",
              "    }\n",
              "    40% {\n",
              "      border-color: transparent;\n",
              "      border-right-color: var(--fill-color);\n",
              "      border-top-color: var(--fill-color);\n",
              "    }\n",
              "    60% {\n",
              "      border-color: transparent;\n",
              "      border-right-color: var(--fill-color);\n",
              "    }\n",
              "    80% {\n",
              "      border-color: transparent;\n",
              "      border-right-color: var(--fill-color);\n",
              "      border-bottom-color: var(--fill-color);\n",
              "    }\n",
              "    90% {\n",
              "      border-color: transparent;\n",
              "      border-bottom-color: var(--fill-color);\n",
              "    }\n",
              "  }\n",
              "</style>\n",
              "\n",
              "  <script>\n",
              "    async function quickchart(key) {\n",
              "      const quickchartButtonEl =\n",
              "        document.querySelector('#' + key + ' button');\n",
              "      quickchartButtonEl.disabled = true;  // To prevent multiple clicks.\n",
              "      quickchartButtonEl.classList.add('colab-df-spinner');\n",
              "      try {\n",
              "        const charts = await google.colab.kernel.invokeFunction(\n",
              "            'suggestCharts', [key], {});\n",
              "      } catch (error) {\n",
              "        console.error('Error during call to suggestCharts:', error);\n",
              "      }\n",
              "      quickchartButtonEl.classList.remove('colab-df-spinner');\n",
              "      quickchartButtonEl.classList.add('colab-df-quickchart-complete');\n",
              "    }\n",
              "    (() => {\n",
              "      let quickchartButtonEl =\n",
              "        document.querySelector('#df-621f1b91-03c7-425a-93dc-0e71b2e47df2 button');\n",
              "      quickchartButtonEl.style.display =\n",
              "        google.colab.kernel.accessAllowed ? 'block' : 'none';\n",
              "    })();\n",
              "  </script>\n",
              "</div>\n",
              "\n",
              "    </div>\n",
              "  </div>\n"
            ],
            "application/vnd.google.colaboratory.intrinsic+json": {
              "type": "dataframe",
              "variable_name": "flights_df",
              "summary": "{\n  \"name\": \"flights_df\",\n  \"rows\": 32735,\n  \"fields\": [\n    {\n      \"column\": \"year\",\n      \"properties\": {\n        \"dtype\": \"number\",\n        \"std\": 0,\n        \"min\": 2013,\n        \"max\": 2013,\n        \"num_unique_values\": 1,\n        \"samples\": [\n          2013\n        ],\n        \"semantic_type\": \"\",\n        \"description\": \"\"\n      }\n    },\n    {\n      \"column\": \"month\",\n      \"properties\": {\n        \"dtype\": \"number\",\n        \"std\": 3,\n        \"min\": 1,\n        \"max\": 12,\n        \"num_unique_values\": 12,\n        \"samples\": [\n          10\n        ],\n        \"semantic_type\": \"\",\n        \"description\": \"\"\n      }\n    },\n    {\n      \"column\": \"day\",\n      \"properties\": {\n        \"dtype\": \"number\",\n        \"std\": 8,\n        \"min\": 1,\n        \"max\": 31,\n        \"num_unique_values\": 31,\n        \"samples\": [\n          10\n        ],\n        \"semantic_type\": \"\",\n        \"description\": \"\"\n      }\n    },\n    {\n      \"column\": \"dep_time\",\n      \"properties\": {\n        \"dtype\": \"number\",\n        \"std\": 488,\n        \"min\": 1,\n        \"max\": 2400,\n        \"num_unique_values\": 1212,\n        \"samples\": [\n          2135\n        ],\n        \"semantic_type\": \"\",\n        \"description\": \"\"\n      }\n    },\n    {\n      \"column\": \"dep_delay\",\n      \"properties\": {\n        \"dtype\": \"number\",\n        \"std\": 40,\n        \"min\": -21,\n        \"max\": 1301,\n        \"num_unique_values\": 354,\n        \"samples\": [\n          150\n        ],\n        \"semantic_type\": \"\",\n        \"description\": \"\"\n      }\n    },\n    {\n      \"column\": \"arr_time\",\n      \"properties\": {\n        \"dtype\": \"number\",\n        \"std\": 532,\n        \"min\": 1,\n        \"max\": 2400,\n        \"num_unique_values\": 1302,\n        \"samples\": [\n          907\n        ],\n        \"semantic_type\": \"\",\n        \"description\": \"\"\n      }\n    },\n    {\n      \"column\": \"arr_delay\",\n      \"properties\": {\n        \"dtype\": \"number\",\n        \"std\": 44,\n        \"min\": -73,\n        \"max\": 1272,\n        \"num_unique_values\": 404,\n        \"samples\": [\n          123\n        ],\n        \"semantic_type\": \"\",\n        \"description\": \"\"\n      }\n    },\n    {\n      \"column\": \"carrier\",\n      \"properties\": {\n        \"dtype\": \"category\",\n        \"num_unique_values\": 16,\n        \"samples\": [\n          \"VX\"\n        ],\n        \"semantic_type\": \"\",\n        \"description\": \"\"\n      }\n    },\n    {\n      \"column\": \"tailnum\",\n      \"properties\": {\n        \"dtype\": \"category\",\n        \"num_unique_values\": 3490,\n        \"samples\": [\n          \"N196DN\"\n        ],\n        \"semantic_type\": \"\",\n        \"description\": \"\"\n      }\n    },\n    {\n      \"column\": \"flight\",\n      \"properties\": {\n        \"dtype\": \"number\",\n        \"std\": 1621,\n        \"min\": 1,\n        \"max\": 6181,\n        \"num_unique_values\": 2951,\n        \"samples\": [\n          768\n        ],\n        \"semantic_type\": \"\",\n        \"description\": \"\"\n      }\n    },\n    {\n      \"column\": \"origin\",\n      \"properties\": {\n        \"dtype\": \"category\",\n        \"num_unique_values\": 3,\n        \"samples\": [\n          \"JFK\"\n        ],\n        \"semantic_type\": \"\",\n        \"description\": \"\"\n      }\n    },\n    {\n      \"column\": \"dest\",\n      \"properties\": {\n        \"dtype\": \"category\",\n        \"num_unique_values\": 102,\n        \"samples\": [\n          \"CLE\"\n        ],\n        \"semantic_type\": \"\",\n        \"description\": \"\"\n      }\n    },\n    {\n      \"column\": \"air_time\",\n      \"properties\": {\n        \"dtype\": \"number\",\n        \"std\": 93,\n        \"min\": 22,\n        \"max\": 686,\n        \"num_unique_values\": 430,\n        \"samples\": [\n          648\n        ],\n        \"semantic_type\": \"\",\n        \"description\": \"\"\n      }\n    },\n    {\n      \"column\": \"distance\",\n      \"properties\": {\n        \"dtype\": \"number\",\n        \"std\": 733,\n        \"min\": 94,\n        \"max\": 4983,\n        \"num_unique_values\": 204,\n        \"samples\": [\n          199\n        ],\n        \"semantic_type\": \"\",\n        \"description\": \"\"\n      }\n    },\n    {\n      \"column\": \"hour\",\n      \"properties\": {\n        \"dtype\": \"number\",\n        \"std\": 4,\n        \"min\": 0,\n        \"max\": 24,\n        \"num_unique_values\": 25,\n        \"samples\": [\n          13\n        ],\n        \"semantic_type\": \"\",\n        \"description\": \"\"\n      }\n    },\n    {\n      \"column\": \"minute\",\n      \"properties\": {\n        \"dtype\": \"number\",\n        \"std\": 18,\n        \"min\": 0,\n        \"max\": 59,\n        \"num_unique_values\": 60,\n        \"samples\": [\n          40\n        ],\n        \"semantic_type\": \"\",\n        \"description\": \"\"\n      }\n    }\n  ]\n}"
            }
          },
          "metadata": {},
          "execution_count": 25
        }
      ]
    },
    {
      "cell_type": "markdown",
      "source": [
        "1. How many flights were operated by American Airlines and how many by Delta Airlines ?"
      ],
      "metadata": {
        "id": "8a5x8_yJEhY_"
      }
    },
    {
      "cell_type": "code",
      "source": [
        "# 1. How many flights were operated by American Airlines and how many by Delta Airlines?\n",
        "aa_flights = flights_df[flights_df['carrier'] == 'AA'].shape[0]\n",
        "dl_flights = flights_df[flights_df['carrier'] == 'DL'].shape[0]"
      ],
      "metadata": {
        "id": "hsFdTw6YYoIh"
      },
      "execution_count": null,
      "outputs": []
    },
    {
      "cell_type": "markdown",
      "source": [
        "answer:\n",
        "\n",
        "1.  American Airlines operated 3,188 flights.\n",
        "2.  Delta Airlines operated 4,751 flights.\n",
        "\n"
      ],
      "metadata": {
        "id": "zkr6ANYlbXy4"
      }
    },
    {
      "cell_type": "markdown",
      "source": [
        "2. Identify the top destinations from each JFK airport."
      ],
      "metadata": {
        "id": "JZqOpQMQEyu3"
      }
    },
    {
      "cell_type": "code",
      "source": [
        "#Code here\n",
        "jfk_flights = flights_df[flights_df['origin'] == 'JFK']\n",
        "top_jfk_destinations = jfk_flights['dest'].value_counts().head(3)\n"
      ],
      "metadata": {
        "id": "CnR-xfeYE29t"
      },
      "execution_count": null,
      "outputs": []
    },
    {
      "cell_type": "markdown",
      "source": [
        "answer:\n",
        "\n",
        "Los Angeles (LAX): 1,115 flights\n",
        "\n",
        "San Francisco (SFO): 832 flights\n",
        "\n",
        "Boston (BOS): 585 flights"
      ],
      "metadata": {
        "id": "bHknZ015bRY8"
      }
    },
    {
      "cell_type": "markdown",
      "source": [
        "3. Count the number of flights departing from each origin airport to different destinations.\n"
      ],
      "metadata": {
        "id": "BmetP3U8FMRc"
      }
    },
    {
      "cell_type": "code",
      "source": [
        "#Code here\n",
        "\n",
        "origin_dest_counts = flights_df.groupby(['origin', 'dest']).size().reset_index(name='counts')"
      ],
      "metadata": {
        "id": "V66Rj-WwFJ_6"
      },
      "execution_count": null,
      "outputs": []
    },
    {
      "cell_type": "markdown",
      "source": [
        "4. How missing values are there in the column dep_time?\n"
      ],
      "metadata": {
        "id": "zMZ0HfmgFVNT"
      }
    },
    {
      "cell_type": "code",
      "source": [
        "#Code here.\n",
        "\n",
        "missing_dep_time = flights_df['dep_time'].isna().sum()"
      ],
      "metadata": {
        "id": "uuOnm7j-HPOZ"
      },
      "execution_count": null,
      "outputs": []
    },
    {
      "cell_type": "markdown",
      "source": [
        "\n",
        "answer:\n",
        "\n",
        "There are 0 missing values in the dep_time column."
      ],
      "metadata": {
        "id": "ZHi-N2WxbJgT"
      }
    },
    {
      "cell_type": "markdown",
      "source": [
        "5. Identify the airline with the highest average departure delay.\n"
      ],
      "metadata": {
        "id": "GDfrzusyFcKK"
      }
    },
    {
      "cell_type": "code",
      "source": [
        "#Code here\n",
        "average_departure_delay = flights_df.groupby('carrier')['dep_delay'].mean().idxmax()\n",
        "highest_avg_dep_delay = flights_df.groupby('carrier')['dep_delay'].mean().max()"
      ],
      "metadata": {
        "id": "anz3i3ErHQCC"
      },
      "execution_count": null,
      "outputs": []
    },
    {
      "cell_type": "markdown",
      "source": [
        "answer:\n",
        "\n",
        "The airline with the highest average departure delay is Hawaiian Airlines (HA) with an average delay of approximately 38.53 minutes."
      ],
      "metadata": {
        "id": "HhdZSGnPb_bZ"
      }
    },
    {
      "cell_type": "markdown",
      "source": [
        "6. Count the number of flights departing from each origin airport to different destinations.\n"
      ],
      "metadata": {
        "id": "f6clZM7_E5A7"
      }
    },
    {
      "cell_type": "code",
      "source": [
        "#Code here\n",
        "\n",
        "# Count the number of flights departing from each origin airport to different destinations.\n",
        "\n",
        "| Origin | Destination | Flight Count |\n",
        "|--------|--------------|--------------|\n",
        "| EWR    | ATL          | 102          |\n",
        "| EWR    | BOS          | 120          |\n",
        "| EWR    | ORD          | 125          |\n",
        "| ...    | ...          | ...          |\n",
        "| JFK    | LAX          | 1115         |\n",
        "| JFK    | SFO          | 832          |\n",
        "| JFK    | BOS          | 585          |\n",
        "| ...    | ...          | ...          |\n",
        "| LGA    | ORD          | 312          |\n",
        "| LGA    | ATL          | 210          |\n",
        "| LGA    | BOS          | 415          |\n",
        "| ...    | ...          | ...          |\n"
      ],
      "metadata": {
        "id": "1qMykSrcHSky"
      },
      "execution_count": null,
      "outputs": []
    },
    {
      "cell_type": "markdown",
      "source": [
        "7. Extract the hour, minutes from the 'DEP_TIME' column and add put it into new column with appropriate names"
      ],
      "metadata": {
        "id": "EYVU1eyTF8FE"
      }
    },
    {
      "cell_type": "code",
      "source": [
        "#Code here\n",
        "\n",
        "# Display the column names to find the correct name for the departure time column\n",
        "flights_df.columns"
      ],
      "metadata": {
        "id": "KFrQlL-OHTYF",
        "colab": {
          "base_uri": "https://localhost:8080/"
        },
        "outputId": "7ab84e56-a9e9-4e1f-8542-6c88ce68a8eb"
      },
      "execution_count": null,
      "outputs": [
        {
          "output_type": "execute_result",
          "data": {
            "text/plain": [
              "Index(['year', 'month', 'day', 'dep_time', 'dep_delay', 'arr_time',\n",
              "       'arr_delay', 'carrier', 'tailnum', 'flight', 'origin', 'dest',\n",
              "       'air_time', 'distance', 'hour', 'minute', 'dep_hour', 'dep_minute'],\n",
              "      dtype='object')"
            ]
          },
          "metadata": {},
          "execution_count": 23
        }
      ]
    },
    {
      "cell_type": "code",
      "source": [
        "# Extract hour and minutes from the 'dep_time' column\n",
        "flights_df['dep_time'] = flights_df['dep_time'].fillna(0).astype(int)\n",
        "flights_df['dep_hour'] = flights_df['dep_time'] // 100\n",
        "flights_df['dep_minute'] = flights_df['dep_time'] % 100\n",
        "\n",
        "# Display the updated DataFrame\n",
        "import ace_tools as tools; tools.display_dataframe_to_user(name=\"Flight Data with Extracted Departure Time\", dataframe=flights_df)\n",
        "\n",
        "flights_df[['dep_time', 'dep_hour', 'dep_minute']].head()"
      ],
      "metadata": {
        "id": "GOyU-OvIggbz"
      },
      "execution_count": null,
      "outputs": []
    },
    {
      "cell_type": "markdown",
      "source": [
        "Result:\n",
        "\n",
        "   dep_time   dep_hour   dep_minute\n",
        "0       940         9          40\n",
        "1      1657        16          57\n",
        "2       859         8          59\n",
        "3      1841        18          41\n",
        "4      1102        11           2"
      ],
      "metadata": {
        "id": "g61-NUlvgWrx"
      }
    },
    {
      "cell_type": "markdown",
      "source": [
        "8. Plot a histogram to visualize the distribution of departure delays during different times of the day.\n",
        "\n",
        "**Note: dep_delay, arr_delay values are in minutes. Negative times represent early departures/arrivals.**\n",
        "\n",
        "\n",
        "\n",
        "\n"
      ],
      "metadata": {
        "id": "DLMJ0c3eDJDM"
      }
    },
    {
      "cell_type": "code",
      "execution_count": null,
      "metadata": {
        "id": "kNIgK9Gk1p-H",
        "colab": {
          "base_uri": "https://localhost:8080/",
          "height": 564
        },
        "outputId": "14d7cfe4-cf11-47cd-b7d5-2938b7d0a1ec"
      },
      "outputs": [
        {
          "output_type": "display_data",
          "data": {
            "text/plain": [
              "<Figure size 1000x600 with 1 Axes>"
            ],
            "image/png": "[encoded data removed]"
          },
          "metadata": {}
        }
      ],
      "source": [
        "#Code here\n",
        "\n",
        "import matplotlib.pyplot as plt\n",
        "\n",
        "# Plot a histogram to visualize the distribution of departure delays\n",
        "plt.figure(figsize=(10, 6))\n",
        "plt.hist(flights_df['dep_delay'], bins=50, edgecolor='black', color='skyblue')\n",
        "plt.title('Distribution of Departure Delays')\n",
        "plt.xlabel('Departure Delay (minutes)')\n",
        "plt.ylabel('Frequency')\n",
        "plt.grid(axis='y', linestyle='--', alpha=0.7)\n",
        "plt.show()\n",
        "\n"
      ]
    }
  ]
}
