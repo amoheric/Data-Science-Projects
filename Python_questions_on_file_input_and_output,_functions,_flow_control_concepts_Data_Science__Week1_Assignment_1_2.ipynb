{
  "nbformat": 4,
  "nbformat_minor": 0,
  "metadata": {
    "colab": {
      "provenance": [],
      "include_colab_link": true
    },
    "kernelspec": {
      "name": "python3",
      "display_name": "Python 3"
    },
    "language_info": {
      "name": "python"
    }
  },
  "cells": [
    {
      "cell_type": "markdown",
      "metadata": {
        "id": "view-in-github",
        "colab_type": "text"
      },
      "source": [
        "<a href=\"https://colab.research.google.com/github/amoheric/Data-Science-Projects/blob/main/Python_questions_on_file_input_and_output%2C_functions%2C_flow_control_concepts_Data_Science__Week1_Assignment_1_2.ipynb\" target=\"_parent\"><img src=\"https://colab.research.google.com/assets/colab-badge.svg\" alt=\"Open In Colab\"/></a>"
      ]
    },
    {
      "cell_type": "markdown",
      "source": [
        "Define a function named calculate_median that takes a list of numbers as input and returns the median of those numbers."
      ],
      "metadata": {
        "id": "IY9UAVMrFFMK"
      }
    },
    {
      "cell_type": "code",
      "source": [
        "#Your answers must go here\n",
        "\n",
        "def calculate_median(numbers):\n",
        "    # Sort the list of numbers\n",
        "    sorted_numbers = sorted(numbers)\n",
        "\n",
        "    # Find the length of the list\n",
        "    n = len(sorted_numbers)\n",
        "\n",
        "    # Calculate the median\n",
        "    if n % 2 == 1:\n",
        "        # If odd, return the middle number\n",
        "        median = sorted_numbers[n // 2]\n",
        "    else:\n",
        "        # If even, return the average of the two middle numbers\n",
        "        median = (sorted_numbers[n // 2 - 1] + sorted_numbers[n // 2]) / 2\n",
        "\n",
        "    return median\n",
        "\n",
        "# Example usage\n",
        "numbers = [3, 1, 4, 1, 5, 9, 2]\n",
        "median_value = calculate_median(numbers)\n",
        "print(\"The median is:\", median_value)\n",
        "\n",
        "\n",
        "\n",
        "#Resources: https://www.w3resource.com/python-exercises/basic/python-basic-1-exercise-82.php, https://www.geeksforgeeks.org/find-median-of-list-in-python/, https://www.geeksforgeeks.org/python-statistics-median/, https://www.w3schools.com/python/ref_stat_median.asp,"
      ],
      "metadata": {
        "id": "T8aVV1vxFJsX",
        "colab": {
          "base_uri": "https://localhost:8080/"
        },
        "outputId": "8f762991-cff3-416a-babc-ac926b434274"
      },
      "execution_count": null,
      "outputs": [
        {
          "output_type": "stream",
          "name": "stdout",
          "text": [
            "The median is: 3\n"
          ]
        }
      ]
    },
    {
      "cell_type": "markdown",
      "source": [
        "Read a text file named \"text.txt\" containing the following text. Count the occurrences of each word and store them in a dictionary.\n",
        "\n",
        "**Text:** apple banana apple orange mango mango grape grape peach pear peach pear kiwi kiwi pineapple pineapple strawberry strawberry blueberry blueberry watermelon watermelon lemon lemon lime\""
      ],
      "metadata": {
        "id": "nfCEGqBZFfIP"
      }
    },
    {
      "cell_type": "code",
      "source": [
        "#Your answers must go here\n",
        "import os\n",
        "\n",
        "def count_word_occurrences(file_path):\n",
        "    # Initialize an empty dictionary to store word counts\n",
        "    word_count = {}\n",
        "\n",
        "    # Create the file and write content if it does not exist\n",
        "    if not os.path.exists(file_path):\n",
        "        with open(file_path, 'w') as file:\n",
        "            file.write(\"apple banana apple orange mango mango grape grape peach pear peach pear kiwi kiwi pineapple pineapple strawberry strawberry blueberry blueberry watermelon watermelon lemon lemon lime\")\n",
        "\n",
        "    # Open the text file and read its content\n",
        "    with open(file_path, 'r') as file:\n",
        "        # Read the content of the file\n",
        "        text = file.read()\n",
        "\n",
        "        # Split the text into words\n",
        "        words = text.split()\n",
        "\n",
        "        # Count the occurrences of each word\n",
        "        for word in words:\n",
        "            if word in word_count:\n",
        "                word_count[word] += 1\n",
        "            else:\n",
        "                word_count[word] = 1\n",
        "\n",
        "    return word_count\n",
        "\n",
        "# Define the path to the text file\n",
        "file_path = 'text.txt'\n",
        "\n",
        "# Get the word count dictionary\n",
        "word_counts = count_word_occurrences(file_path)\n",
        "\n",
        "# Print the word count dictionary\n",
        "print(\"Word counts:\", word_counts)\n",
        "\n",
        "\n",
        "#Resources: https://www.geeksforgeeks.org/python-count-occurrences-of-each-word-in-given-text-file/, https://stackoverflow.com/questions/69319005/count-a-string-in-a-text-file-with-python, https://medium.com/@ericvanrees/python-workout-count-word-occurances-in-a-text-file-e01c22ea9d47,"
      ],
      "metadata": {
        "id": "MvE0QgThFz77",
        "colab": {
          "base_uri": "https://localhost:8080/"
        },
        "outputId": "8508cb21-42f0-4037-8db0-643ca7b997bc"
      },
      "execution_count": null,
      "outputs": [
        {
          "output_type": "stream",
          "name": "stdout",
          "text": [
            "Word counts: {'apple': 2, 'banana': 1, 'orange': 1, 'mango': 2, 'grape': 2, 'peach': 2, 'pear': 2, 'kiwi': 2, 'pineapple': 2, 'strawberry': 2, 'blueberry': 2, 'watermelon': 2, 'lemon': 2, 'lime': 1}\n"
          ]
        }
      ]
    },
    {
      "cell_type": "markdown",
      "source": [
        "Create a .txt file and write some content into it. Read this content from '.txt' file and write it into another file named 'copy.txt' using a file method and a loop."
      ],
      "metadata": {
        "id": "dH4yhd-KFlbF"
      }
    },
    {
      "cell_type": "code",
      "source": [
        "#Your answers must go here\n",
        "\n",
        "# Create and write content to the original file\n",
        "with open('original.txt', 'w') as original_file:\n",
        "    original_file.write(\"This is the original file.\\nIt contains some text for testing.\\nThis is the third line.\")\n",
        "\n",
        "# Read content from the original file and write it to the copy file\n",
        "with open('original.txt', 'r') as original_file, open('copy.txt', 'w') as copy_file:\n",
        "    for line in original_file:\n",
        "        copy_file.write(line)\n",
        "\n",
        "# Verify the content of the copy file\n",
        "with open('copy.txt', 'r') as copy_file:\n",
        "    copied_content = copy_file.read()\n",
        "    print(\"Content of copy.txt:\")\n",
        "    print(copied_content)\n",
        "\n",
        "\n",
        "#Resources: https://www.geeksforgeeks.org/read-content-from-one-file-and-write-it-into-another-file/, https://www.educative.io/answers/how-to-read-from-one-file-and-write-it-into-another-in-python, https://www.geeksforgeeks.org/python-copy-contents-of-one-file-to-another-file/,"
      ],
      "metadata": {
        "id": "CtPv4V0hFzO3",
        "colab": {
          "base_uri": "https://localhost:8080/"
        },
        "outputId": "ffcaaf86-5316-4fd2-d071-da16edd96a51"
      },
      "execution_count": null,
      "outputs": [
        {
          "output_type": "stream",
          "name": "stdout",
          "text": [
            "Content of copy.txt:\n",
            "This is the original file.\n",
            "It contains some text for testing.\n",
            "This is the third line.\n"
          ]
        }
      ]
    }
  ]
}